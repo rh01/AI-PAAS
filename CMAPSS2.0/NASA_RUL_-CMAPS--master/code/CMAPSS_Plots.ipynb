{
 "cells": [
  {
   "cell_type": "markdown",
   "metadata": {},
   "source": [
    "# Initialization\n",
    "\n",
    "Notebook for the C-MAPPS benchmark. Plot the real vs the predicted RUL \n",
    "\n",
    "First we import the necessary packages and create the global variables."
   ]
  },
  {
   "cell_type": "code",
   "execution_count": 1,
   "metadata": {},
   "outputs": [
    {
     "name": "stderr",
     "output_type": "stream",
     "text": [
      "Using TensorFlow backend.\n"
     ]
    }
   ],
   "source": [
    "import math\n",
    "import numpy as np\n",
    "import csv\n",
    "import copy\n",
    "import sys\n",
    "\n",
    "from scipy import stats\n",
    "from sklearn.preprocessing import StandardScaler, MinMaxScaler\n",
    "\n",
    "sys.path.append('/Users/davidlaredorazo/Documents/University_of_California/Research/Projects')\n",
    "\n",
    "from ann_framework.data_handlers.data_handler_CMAPSS import CMAPSSDataHandler\n",
    "from ann_framework.tunable_model.tunable_model import SequenceTunableModelRegression\n",
    "from ann_framework import aux_functions\n",
    "\n",
    "import CMAPSSPlot_AuxFunctions\n",
    "\n",
    "from keras.models import model_from_json, clone_model\n",
    "from keras import regularizers\n",
    "from keras.models import Sequential, Model\n",
    "from keras.layers import Dense, Input, Dropout, Reshape, Conv2D, Flatten, MaxPooling2D\n",
    "from keras.optimizers import Adam\n",
    "from keras.callbacks import LearningRateScheduler\n",
    "from keras import backend as K\n",
    "\n",
    "import matplotlib.pyplot as plt\n",
    "from matplotlib import rcParams\n",
    "\n",
    "import seaborn as sns; sns.set(font_scale=1.2)\n",
    "\n",
    "%matplotlib inline"
   ]
  },
  {
   "cell_type": "markdown",
   "metadata": {},
   "source": [
    "# Function to plot RULs"
   ]
  },
  {
   "cell_type": "code",
   "execution_count": 2,
   "metadata": {},
   "outputs": [],
   "source": [
    "def plot_RUL(real_rul_list, predicted_rul_list):\n",
    "    \n",
    "    for real_rul, predicted_rul, i in zip(real_rul_list, predicted_rul_list, range(len(real_rul_list))):\n",
    "        \n",
    "        x = np.arange(1,real_rul.shape[0]+1)\n",
    "        e = real_rul-predicted_rul\n",
    "        \n",
    "        plt.clf()\n",
    "        fig = plt.figure(i)\n",
    "        fig.suptitle('Real RUL vs Predicted RUL for FD00'+str(i+1), fontsize=14)\n",
    "        #plt.title('Real RUL vs Predicted RUL')\n",
    "        \n",
    "        plt.subplot(2,1,1)\n",
    "        plt.xlabel(\"Engine Number\")\n",
    "        plt.ylabel(\"RUL\")\n",
    "        plt.plot(x, predicted_rul, 'r--')\n",
    "        plt.plot(x, real_rul, 'g--')\n",
    "        plt.legend(('Predicted RUL', 'Real RUL'), loc='center left', bbox_to_anchor=(1, 0.5))\n",
    "        \n",
    "        y_ticks_array = gen_yticks(e)\n",
    "        \n",
    "        plt.subplot(2,1,2)\n",
    "        plt.xlabel(\"Engine Number\")\n",
    "        plt.ylabel(\"$E_{RMS}$\")\n",
    "        plt.plot(x, e, 'm--')\n",
    "        plt.yticks(y_ticks_array)\n",
    "        \n",
    "        #plt.show()\n",
    "        plt.savefig('rul_plots_dataset_'+str(i+1)+'.pdf', format='pdf', bbox_inches='tight', dpi=300)\n",
    "        #plt.savefig('rul_plots_dataset_'+str(i+1)+'.png', dpi=900, format='png', bbox_inches='tight')"
   ]
  },
  {
   "cell_type": "code",
   "execution_count": 3,
   "metadata": {},
   "outputs": [],
   "source": [
    "def gen_yticks(error_array):\n",
    "    \n",
    "    min_val = np.amin(error_array)\n",
    "    max_val = np.amax(error_array)\n",
    "    min_val_yticks_multiplier = math.floor(min_val/25)\n",
    "    max_val_yticks_multiplier =  math.ceil(max_val/25)\n",
    "    min_val_yticks = 25*min_val_yticks_multiplier\n",
    "    max_val_yticks = 25*max_val_yticks_multiplier\n",
    "        \n",
    "    y_ticks_array = np.arange(min_val_yticks, max_val_yticks+25, 25)\n",
    "    \n",
    "    if y_ticks_array.size > 6:\n",
    "        min_val_yticks_multiplier = math.floor(min_val/50)\n",
    "        max_val_yticks_multiplier =  math.ceil(max_val/50)\n",
    "        min_val_yticks = 50*min_val_yticks_multiplier\n",
    "        max_val_yticks = 50*max_val_yticks_multiplier\n",
    "        \n",
    "        y_ticks_array = np.arange(min_val_yticks, max_val_yticks+50, 50)\n",
    "        \n",
    "    return y_ticks_array"
   ]
  },
  {
   "cell_type": "code",
   "execution_count": 4,
   "metadata": {},
   "outputs": [],
   "source": [
    "def gen_stats(real_rul_list, predicted_rul_list):\n",
    "    \n",
    "    list_e_real = []\n",
    "    list_e_abs = []\n",
    "    \n",
    "    for real_rul, predicted_rul, i in zip(real_rul_list, predicted_rul_list, range(len(real_rul_list))):\n",
    "        \n",
    "        e = real_rul-predicted_rul\n",
    "        e_abs = np.absolute(e)\n",
    "        e_abs.sort()\n",
    "        \n",
    "        first_percentile = np.percentile(e_abs, 25, interpolation='lower')\n",
    "        second_percentile = np.percentile(e_abs, 50, interpolation='lower')\n",
    "        third_percentile = np.percentile(e_abs, 75, interpolation='lower')\n",
    "        \n",
    "    \n",
    "        \"\"\"\n",
    "        print(\"For FD001\"+str(i+1))\n",
    "        #print(e)\n",
    "        #print(e_abs)\n",
    "        print(stats.describe(e))\n",
    "        print(stats.describe(e_abs))\n",
    "        print(first_percentile)\n",
    "        print(second_percentile)\n",
    "        print(third_percentile)\n",
    "        \"\"\"\n",
    "        \n",
    "        list_e_real.append(e)\n",
    "        list_e_abs.append(e_abs)\n",
    "        \n",
    "    return list_e_real, list_e_abs"
   ]
  },
  {
   "cell_type": "markdown",
   "metadata": {},
   "source": [
    "# Create data Handler"
   ]
  },
  {
   "cell_type": "code",
   "execution_count": 5,
   "metadata": {},
   "outputs": [],
   "source": [
    "#Selected as per CNN paper\n",
    "features = ['T2', 'T24', 'T30', 'T50', 'P2', 'P15', 'P30', 'Nf', 'Nc', 'epr', 'Ps30', 'phi', 'NRf', 'NRc', \n",
    "                     'BPR', 'farB', 'htBleed', 'Nf_dmd', 'PCNfR_dmd', 'W31', 'W32']\n",
    "selected_indices = np.array([2, 3, 4, 7, 8, 9, 11, 12, 13, 14, 15, 17, 20, 21])\n",
    "selected_features = list(features[i] for i in selected_indices-1)\n",
    "data_folder = '../CMAPSSData'\n",
    "\n",
    "window_size = 30\n",
    "window_stride = 1\n",
    "max_rul = 125\n",
    "\n",
    "dHandler_cmaps = CMAPSSDataHandler(data_folder, 1, selected_features, max_rul, window_size, window_stride)\n",
    "#dHandler_cmaps.load_data(verbose=1, cross_validation_ratio=0.2)"
   ]
  },
  {
   "cell_type": "markdown",
   "metadata": {},
   "source": [
    "# Load models and get predicted and real RULs"
   ]
  },
  {
   "cell_type": "code",
   "execution_count": 6,
   "metadata": {},
   "outputs": [
    {
     "name": "stdout",
     "output_type": "stream",
     "text": [
      "Loaded model from disk\n",
      "Loading data for the first time\n",
      "Reloading data due to parameter change\n",
      "Loading data for dataset 1 with window_size of 24, stride of 1 and maxRUL of 129. Cros-Validation ratio 0\n",
      "Loading data from file and computing dataframes\n",
      "Description for model: ModelRUL_SN_1\n",
      "_________________________________________________________________\n",
      "Layer (type)                 Output Shape              Param #   \n",
      "=================================================================\n",
      "fc1 (Dense)                  (None, 20)                6740      \n",
      "_________________________________________________________________\n",
      "fc2 (Dense)                  (None, 20)                420       \n",
      "_________________________________________________________________\n",
      "out (Dense)                  (None, 1)                 21        \n",
      "=================================================================\n",
      "Total params: 7,181\n",
      "Trainable params: 7,181\n",
      "Non-trainable params: 0\n",
      "_________________________________________________________________\n",
      "100/100 [==============================] - 0s 2ms/step\n",
      "scores\n",
      "{'loss': 270.6421148681641, 'score_1': 206.36583923339845, 'rhs': 3.4385813531834817, 'rmse': 14.358272876638054}\n",
      "{'loss': 270.6421148681641, 'score_1': 206.36583923339845, 'rhs': 3.4385813531834817, 'rmse': 14.358272876638054}\n",
      "RMSE: 14.36543905466862\n",
      "RMSE2: 14.358272876638054\n",
      "RHS: 3.4385813531834817\n",
      "Time : None seconds\n",
      "Loaded model from disk\n",
      "Loading data for the first time\n",
      "Reloading data due to parameter change\n",
      "Loading data for dataset 2 with window_size of 17, stride of 1 and maxRUL of 139. Cros-Validation ratio 0\n",
      "Loading data from file and computing dataframes\n",
      "Description for model: ModelRUL_SN_1\n",
      "_________________________________________________________________\n",
      "Layer (type)                 Output Shape              Param #   \n",
      "=================================================================\n",
      "fc1 (Dense)                  (None, 20)                4780      \n",
      "_________________________________________________________________\n",
      "fc2 (Dense)                  (None, 20)                420       \n",
      "_________________________________________________________________\n",
      "out (Dense)                  (None, 1)                 21        \n",
      "=================================================================\n",
      "Total params: 5,221\n",
      "Trainable params: 5,221\n",
      "Non-trainable params: 0\n",
      "_________________________________________________________________\n",
      "259/259 [==============================] - 0s 2ms/step\n",
      "scores\n",
      "{'loss': 1127.0881281672298, 'score_1': 1089.3201824173505, 'rhs': 230.13091519332772, 'rmse': 33.00462118105614}\n",
      "{'loss': 1127.0881281672298, 'score_1': 1089.3201824173505, 'rhs': 230.13091519332772, 'rmse': 33.00462118105614}\n",
      "RMSE: 33.00485089221508\n",
      "RMSE2: 33.00462118105614\n",
      "RHS: 230.13091519332772\n",
      "Time : None seconds\n",
      "Loaded model from disk\n",
      "Loading data for the first time\n",
      "Reloading data due to parameter change\n",
      "Loading data for dataset 3 with window_size of 24, stride of 1 and maxRUL of 129. Cros-Validation ratio 0\n",
      "Loading data from file and computing dataframes\n",
      "Description for model: ModelRUL_SN_1\n",
      "_________________________________________________________________\n",
      "Layer (type)                 Output Shape              Param #   \n",
      "=================================================================\n",
      "fc1 (Dense)                  (None, 20)                6740      \n",
      "_________________________________________________________________\n",
      "fc2 (Dense)                  (None, 20)                420       \n",
      "_________________________________________________________________\n",
      "out (Dense)                  (None, 1)                 21        \n",
      "=================================================================\n",
      "Total params: 7,181\n",
      "Trainable params: 7,181\n",
      "Non-trainable params: 0\n",
      "_________________________________________________________________\n",
      "100/100 [==============================] - 0s 4ms/step\n",
      "scores\n",
      "{'loss': 348.7203057861328, 'score_1': 281.7238820838928, 'rhs': 6.837579257803255, 'rmse': 16.744252745345193}\n",
      "{'loss': 348.7203057861328, 'score_1': 281.7238820838928, 'rhs': 6.837579257803255, 'rmse': 16.744252745345193}\n",
      "RMSE: 16.78463231899623\n",
      "RMSE2: 16.744252745345193\n",
      "RHS: 6.837579257803255\n",
      "Time : None seconds\n",
      "Loaded model from disk\n",
      "Loading data for the first time\n",
      "Reloading data due to parameter change\n",
      "Loading data for dataset 4 with window_size of 17, stride of 1 and maxRUL of 139. Cros-Validation ratio 0\n",
      "Loading data from file and computing dataframes\n",
      "Description for model: ModelRUL_SN_1\n",
      "_________________________________________________________________\n",
      "Layer (type)                 Output Shape              Param #   \n",
      "=================================================================\n",
      "fc1 (Dense)                  (None, 20)                4780      \n",
      "_________________________________________________________________\n",
      "fc2 (Dense)                  (None, 20)                420       \n",
      "_________________________________________________________________\n",
      "out (Dense)                  (None, 1)                 21        \n",
      "=================================================================\n",
      "Total params: 5,221\n",
      "Trainable params: 5,221\n",
      "Non-trainable params: 0\n",
      "_________________________________________________________________\n",
      "248/248 [==============================] - 1s 3ms/step\n",
      "scores\n",
      "{'loss': 1340.5982508505545, 'score_1': 1275.2459638041835, 'rhs': 91.19250573505145, 'rmse': 35.682346317327244}\n",
      "{'loss': 1340.5982508505545, 'score_1': 1275.2459638041835, 'rhs': 91.19250573505145, 'rmse': 35.682346317327244}\n",
      "RMSE: 35.71058615878747\n",
      "RMSE2: 35.682346317327244\n",
      "RHS: 91.19250573505145\n",
      "Time : None seconds\n"
     ]
    }
   ],
   "source": [
    "datasets = [1, 2, 3, 4]\n",
    "\n",
    "window_sizes = {1:24,2:17,3:24,4:17}\n",
    "strides = {1:1,2:1,3:1,4:1}\n",
    "max_ruls = {1:129, 2:139, 3:129, 4:139}\n",
    "\n",
    "y_predicted_list = []\n",
    "y_true_list = []\n",
    "\n",
    "\n",
    "for i in datasets:\n",
    "\n",
    "    # load json and create model\n",
    "    json_file = open('models/bestRULModel_dataset_'+str(i)+'.json', 'r')\n",
    "    loaded_model_json = json_file.read()\n",
    "    json_file.close()\n",
    "    loaded_model = model_from_json(loaded_model_json)\n",
    "    # load weights into new model\n",
    "    loaded_model.load_weights(\"models/bestRULModel_dataset_\"+str(i)+\".h5\")\n",
    "    print(\"Loaded model from disk\")\n",
    "\n",
    "\n",
    "    #Shared parameters for the models\n",
    "    optimizer = Adam(lr=0, beta_1=0.5)\n",
    "    lossFunction = \"mean_squared_error\"\n",
    "    metrics = [\"mse\"]\n",
    "\n",
    "    #Selected as per CNN paper\n",
    "    selected_features = ['T24', 'T30', 'T50', 'P30', 'Nf', 'Nc', 'Ps30', 'phi', 'NRf', 'NRc', \n",
    "                         'BPR', 'htBleed', 'W31', 'W32']\n",
    "\n",
    "    #Create and compile the models\n",
    "    #nFeatures = len(selected_features)\n",
    "    #shapeSN = nFeatures*windowSize\n",
    "    #modelRULSN = RULmodel_SN_1(shapeSN)\n",
    "    loaded_model.compile(optimizer = optimizer, loss = lossFunction, metrics = metrics)\n",
    "\n",
    "    #min_max_scaler = MinMaxScaler(feature_range=(-1, 1))\n",
    "    min_max_scaler = MinMaxScaler()\n",
    "\n",
    "    tModel = SequenceTunableModelRegression('ModelRUL_SN_1', loaded_model, lib_type='keras', data_handler=dHandler_cmaps)\n",
    "\n",
    "    tModel.data_handler.change_dataset(i)\n",
    "    tModel.data_handler.sequence_length = window_sizes[i]\n",
    "    tModel.data_handler.sequence_stride = strides[i]\n",
    "    tModel.data_handler.max_rul = max_ruls[i]\n",
    "\n",
    "    tModel.data_handler.data_scaler = None\n",
    "    tModel.data_scaler = min_max_scaler\n",
    "\n",
    "    tModel.load_data(unroll=True, verbose=1, cross_validation_ratio=0)\n",
    "    #tModel.print_data()\n",
    "    #print(tModel.model.get_weights())\n",
    "    tModel.get_model_description()\n",
    "    \n",
    "    # evaluate loaded model on test data\n",
    "    tModel.evaluate_model(['rhs', 'rmse'], round=2)\n",
    "    print(\"scores\")\n",
    "\n",
    "    #print(tModel.y_pred)\n",
    "\n",
    "    cScores = tModel.scores\n",
    "    print(cScores)\n",
    "    rmse = math.sqrt(cScores['score_1'])\n",
    "    rmse2 = cScores['rmse']\n",
    "    rhs = cScores['rhs']\n",
    "    time = tModel.train_time\n",
    "    \n",
    "    y_predicted = tModel.y_predicted_rounded.flatten()\n",
    "    y_true = tModel.y_test.flatten()\n",
    "    \n",
    "    y_predicted_list.append(y_predicted)\n",
    "    y_true_list.append(y_true)\n",
    "\n",
    "    print(cScores)\n",
    "    print(\"RMSE: {}\".format(rmse))\n",
    "    print(\"RMSE2: {}\".format(rmse2))\n",
    "    print(\"RHS: {}\".format(rhs))\n",
    "    print(\"Time : {} seconds\".format(time))"
   ]
  },
  {
   "cell_type": "markdown",
   "metadata": {},
   "source": [
    "## Plot real vs predicted RULs"
   ]
  },
  {
   "cell_type": "code",
   "execution_count": 7,
   "metadata": {},
   "outputs": [
    {
     "data": {
      "text/plain": [
       "<Figure size 432x288 with 0 Axes>"
      ]
     },
     "metadata": {},
     "output_type": "display_data"
    },
    {
     "data": {
      "text/plain": [
       "<Figure size 432x288 with 0 Axes>"
      ]
     },
     "metadata": {},
     "output_type": "display_data"
    },
    {
     "data": {
      "text/plain": [
       "<Figure size 432x288 with 0 Axes>"
      ]
     },
     "metadata": {},
     "output_type": "display_data"
    },
    {
     "data": {
      "image/png": "[encoded data removed]",
      "text/plain": [
       "<Figure size 432x288 with 2 Axes>"
      ]
     },
     "metadata": {
      "needs_background": "light"
     },
     "output_type": "display_data"
    }
   ],
   "source": [
    "plot_RUL(y_predicted_list, y_true_list)"
   ]
  },
  {
   "cell_type": "markdown",
   "metadata": {},
   "source": [
    "## Boxplot error statistics"
   ]
  },
  {
   "cell_type": "code",
   "execution_count": 8,
   "metadata": {},
   "outputs": [
    {
     "data": {
      "image/png": "[encoded data removed]",
      "text/plain": [
       "<Figure size 432x288 with 1 Axes>"
      ]
     },
     "metadata": {
      "needs_background": "light"
     },
     "output_type": "display_data"
    }
   ],
   "source": [
    "list_e_real, list_e_abs = gen_stats(y_predicted_list, y_true_list)\n",
    "\n",
    "# Create a figure instance\n",
    "fig = plt.figure()\n",
    "\n",
    "# Create an axes instance\n",
    "ax = fig.add_subplot(111)\n",
    "\n",
    "## add patch_artist=True option to ax.boxplot() \n",
    "## to get fill color\n",
    "bp = ax.boxplot(list_e_real, patch_artist=True, showfliers=False)\n",
    "\n",
    "## change outline color, fill color and linewidth of the boxes\n",
    "for box in bp['boxes']:\n",
    "    # change outline color\n",
    "    box.set( color='#7570b3', linewidth=2)\n",
    "    # change fill color\n",
    "    box.set( facecolor = '#1b9e77' )\n",
    "\n",
    "    ## change color and linewidth of the whiskers\n",
    "    for whisker in bp['whiskers']:\n",
    "        whisker.set(color='#7570b3', linewidth=2)\n",
    "\n",
    "    ## change color and linewidth of the caps\n",
    "    for cap in bp['caps']:\n",
    "        cap.set(color='#7570b3', linewidth=2)\n",
    "\n",
    "    ## change color and linewidth of the medians\n",
    "    for median in bp['medians']:\n",
    "        median.set(color='#b2df8a', linewidth=2)\n",
    "\n",
    "    ## change the style of fliers and their fill\n",
    "    for flier in bp['fliers']:\n",
    "        flier.set(marker='o', color='#e7298a', alpha=0.5)\n",
    "\n",
    "\n",
    "## Custom x-axis labels\n",
    "ax.set_xticklabels(['FD001', 'FD002', 'FD003', 'FD004'])\n",
    "\n",
    "## Remove top axes and right axes ticks\n",
    "ax.get_xaxis().tick_bottom()\n",
    "ax.get_yaxis().tick_left()\n",
    "\n",
    "plt.xlabel(\"Dataset\")\n",
    "plt.ylabel(\"$E_{RMS}$\")\n",
    "        \n",
    "# Save the figure\n",
    "fig.savefig('error_stats_boxplot.pdf', format='pdf', bbox_inches='tight', dpi=300)\n",
    "#fig.savefig('error_stats_boxplot.png', bbox_inches='tight', dpi=900)\n",
    "#plt.show()\n"
   ]
  },
  {
   "cell_type": "markdown",
   "metadata": {
    "collapsed": true
   },
   "source": [
    "# Create plot for illustrating the data reshape"
   ]
  },
  {
   "cell_type": "code",
   "execution_count": null,
   "metadata": {},
   "outputs": [],
   "source": [
    "def plot_windows(plotting_data):\n",
    "    \n",
    "    plt.clf()\n",
    "    \n",
    "    x = range(0, plotting_data.shape[0])\n",
    "    \n",
    "    for i in range(plotting_data.shape[1]):\n",
    "        \n",
    "        y = plotting_data[:,i]\n",
    "        y = y+i\n",
    "        plt.plot(x, y)\n",
    "        \n",
    "    plt.plot([0,0], [0,14], linestyle='-.', color='k')\n",
    "    plt.plot([5,5], [0,14], linestyle='-.', color='k')\n",
    "    \n",
    "    plt.plot([4,4], [0,14], linestyle='-.', color='r')\n",
    "    plt.plot([9,9], [0,14], linestyle='-.', color='r')\n",
    "        \n",
    "    plt.ylabel(\"Sensor number\")\n",
    "    plt.xlabel(\"Engine cycle\")\n",
    "    plt.title(\"Window and stride\")\n",
    "    #plt.show()\n",
    "    plt.savefig('window_stride.pdf', format='pdf', bbox_inches='tight', dpi=300)\n",
    "    #plt.savefig('window_stride.png', dpi=900, format='png', bbox_inches='tight')"
   ]
  },
  {
   "cell_type": "code",
   "execution_count": null,
   "metadata": {},
   "outputs": [],
   "source": [
    "#Selected as per CNN paper\n",
    "features = ['T2', 'T24', 'T30', 'T50', 'P2', 'P15', 'P30', 'Nf', 'Nc', 'epr', 'Ps30', 'phi', 'NRf', 'NRc', \n",
    "                     'BPR', 'farB', 'htBleed', 'Nf_dmd', 'PCNfR_dmd', 'W31', 'W32']\n",
    "selected_indices = np.array([2, 3, 4, 7, 8, 9, 11, 12, 13, 14, 15, 17, 20, 21])\n",
    "selected_features = list(features[i] for i in selected_indices-1)\n",
    "data_folder = '../CMAPSSData'\n",
    "\n",
    "window_size = 30\n",
    "window_stride = 1\n",
    "max_rul = 125\n",
    "\n",
    "min_max_scaler = MinMaxScaler()\n",
    "\n",
    "dHandler_cmaps2 = CMAPSSDataHandler(data_folder, 1, selected_features, max_rul, window_size, window_stride)\n",
    "dHandler_cmaps2.data_scaler = MinMaxScaler()\n",
    "dHandler_cmaps2.load_data(verbose=1, unroll=False)\n",
    "#dHandler_cmaps2.print_data()\n",
    "#dHandler_cmaps.load_data(verbose=1, cross_validation_ratio=0.2)"
   ]
  },
  {
   "cell_type": "code",
   "execution_count": null,
   "metadata": {},
   "outputs": [],
   "source": [
    "plotting_data = dHandler_cmaps2.X_train[0]\n",
    "plot_windows(plotting_data)"
   ]
  },
  {
   "cell_type": "code",
   "execution_count": null,
   "metadata": {},
   "outputs": [],
   "source": [
    "#Plot ReLu and Linear\n",
    "\n",
    "x = np.linspace(-10,10, 100)\n",
    "relu = x*(x>0)\n",
    "\n",
    "plt.clf()\n",
    "plt.plot(x, x, color='b')\n",
    "plt.ylabel(\"linear(x)\")\n",
    "plt.xlabel(\"x\")\n",
    "plt.title(\"Linear activation function\")\n",
    "plt.savefig('linear_function.png', dpi=900, format='png', bbox_inches='tight')\n",
    "\n",
    "plt.clf()\n",
    "plt.plot(x, relu, color='b')\n",
    "plt.ylabel(\"relu(x)\")\n",
    "plt.xlabel(\"x\")\n",
    "plt.title(\"ReLU activation function\")\n",
    "plt.savefig('relu_function.png', dpi=900, format='png', bbox_inches='tight')"
   ]
  },
  {
   "cell_type": "markdown",
   "metadata": {
    "collapsed": true
   },
   "source": [
    "# Plot boxplots for error statistics"
   ]
  },
  {
   "cell_type": "code",
   "execution_count": null,
   "metadata": {},
   "outputs": [],
   "source": [
    "#Load the results data\n",
    "\n",
    "data = np.genfromtxt('results/MLP/resultsDatasets_all_sn20_20.csv', delimiter=',')\n",
    "#print(data)\n",
    "\n",
    "for i in range(4):\n",
    "    tempScoresRMSE = data[i*3+0]\n",
    "    tempScoresRHS = data[i*3+1]\n",
    "    tempTime = data[i*3+2]\n",
    "    \n",
    "    print(stats.describe(tempScoresRMSE))\n",
    "    print(stats.describe(tempScoresRHS))\n",
    "    print(stats.describe(tempTime))"
   ]
  },
  {
   "cell_type": "markdown",
   "metadata": {},
   "source": [
    "## Create boxplots\n",
    "\n",
    "For each of the datasets create boxplots using their statistics and compare them using each metric"
   ]
  },
  {
   "cell_type": "code",
   "execution_count": null,
   "metadata": {},
   "outputs": [],
   "source": [
    "data = np.genfromtxt('results/MLP/resultsDatasets_all_sn20_20.csv', delimiter=',')\n",
    "\n",
    "data_rmse = [] \n",
    "data_rhs = []\n",
    "\n",
    "print(data[0])\n",
    "\n",
    "rcParams['font.family'] = 'sans-serif'\n",
    "rcParams['font.sans-serif'] = ['Times New Roman']\n",
    "rcParams['font.size'] = 18\n",
    "rcParams['figure.dpi'] = 300\n",
    "\n",
    "for dataset in range(4):\n",
    "    \n",
    "    #data_rmse.append([data[dataset*3], data[dataset*3+12], data[dataset*3+24]]) \n",
    "    #data_rhs.append([data[dataset*3+1], data[dataset*3+13], data[dataset*3+25]])\n",
    "    \n",
    "    data_rmse.append([data[dataset*3], data[dataset*3+12]]) \n",
    "    data_rhs.append([data[dataset*3+1], data[dataset*3+13]])\n",
    "    \n",
    "    #data_rmse.append([data[dataset*3]]) \n",
    "    #data_rhs.append([data[dataset*3+1]])\n",
    "\n",
    "\n",
    "f, (ax1, ax2, ax3, ax4) = plt.subplots(1, 4)\n",
    "#f.suptitle('Different sets of data-related parameters')\n",
    "plt_ax = [ax1, ax2, ax3, ax4]\n",
    "count = 0\n",
    "\n",
    "for data_plot in data_rmse:\n",
    "    medianprops = dict(linestyle='-', linewidth=1, color='red')\n",
    "    plt_ax[count].boxplot(data_plot, showfliers=False, medianprops=medianprops)\n",
    "    plt_ax[count].set_facecolor('white')\n",
    "    plt_ax[count].yaxis.grid(which=\"major\", color='0.75', linestyle='-', linewidth=0.5)\n",
    "    plt.sca(plt_ax[count])\n",
    "    locs, _ = plt.xticks()\n",
    "    plt.xticks(locs, ['2 sets', '1 set'], rotation=60)\n",
    "    if count == 0:\n",
    "        plt_ax[count].set_ylabel('RMSE')\n",
    "        \n",
    "    plt_ax[count].set_title('FD00'+str(count+1))\n",
    "    count = count + 1 \n",
    "\n",
    "f.tight_layout()\n",
    "plt.savefig('rmse_comparisson.svg', bbox_inches='tight', format='svg')\n",
    "plt.savefig('rmse_comparisson.png', bbox_inches='tight', dpi=300)\n",
    "\n",
    "plt.clf()\n",
    "f, (ax1, ax2, ax3, ax4) = plt.subplots(1, 4)\n",
    "#f.suptitle('Different sets of data-related parameters')\n",
    "plt_ax = [ax1, ax2, ax3, ax4]\n",
    "\n",
    "count = 0\n",
    "for data_plot in data_rhs:\n",
    "    medianprops = dict(linestyle='-', linewidth=1, color='red')\n",
    "    plt_ax[count].boxplot(data_plot, showfliers=False, medianprops=medianprops)\n",
    "    plt_ax[count].set_facecolor('white')\n",
    "    plt_ax[count].yaxis.grid(which=\"major\", color='0.75', linestyle='-', linewidth=0.5)\n",
    "    plt.sca(plt_ax[count])\n",
    "    locs, _ = plt.xticks()\n",
    "    plt.xticks(locs, ['2 sets', '1 set'], rotation=60)\n",
    "    if count == 0:\n",
    "        plt_ax[count].set_ylabel('RHS')\n",
    "        \n",
    "    plt_ax[count].set_title('FD00'+str(count+1))\n",
    "    count = count + 1 \n",
    "\n",
    "f.tight_layout()\n",
    "\n",
    "plt.savefig('rul_plots_dataset_'+str(i+1)+'.pdf', format='pdf', bbox_inches='tight', dpi=300)\n",
    "plt.savefig('rhs_comparisson.svg', bbox_inches='tight', format='svg')\n",
    "plt.savefig('rhs_comparisson.png', bbox_inches='tight', dpi=300)\n"
   ]
  },
  {
   "cell_type": "markdown",
   "metadata": {},
   "source": [
    "# Plot example for piecewise linear degradation model"
   ]
  },
  {
   "cell_type": "code",
   "execution_count": null,
   "metadata": {},
   "outputs": [],
   "source": [
    "def plot_linear_degradation_model(cycles, rulArray, engineUnit):\n",
    "    \n",
    "    rcParams['font.family'] = 'sans-serif'\n",
    "    rcParams['font.sans-serif'] = ['Times New Roman']\n",
    "    rcParams['font.size'] = 18\n",
    "    rcParams['figure.dpi'] = 300\n",
    "    \n",
    "    plt.clf()\n",
    "    ax = plt.gca()\n",
    "    ax.yaxis.grid(which=\"major\", color='0.75', linestyle='-', linewidth=0.5)\n",
    "    ax.set_facecolor('white')\n",
    "    plt.plot(cycles, rulArray, 'b.-', label='RUL')\n",
    "    plt.xlabel(\"Time (Cycle)\")\n",
    "    plt.ylabel(\"RUL\")\n",
    "    plt.title(\"Test Engine Unit #{}\".format(engineUnit))\n",
    "    \n",
    "    plt.savefig('test_engine.pdf', format='pdf', bbox_inches='tight', dpi=300)\n",
    "    \n",
    "    #plt.savefig('test_engine.svg', bbox_inches='tight', format='svg')\n",
    "    #plt.savefig('test_engine.png', bbox_inches='tight', dpi=300)\n",
    "    \n",
    "    plt.show()\n",
    "    \n",
    "def plot_piecewise_by_engine(data_handler, engineUnit):\n",
    "\n",
    "    time_window = data_handler.sequence_length\n",
    "    constRUL = data_handler.max_rul\n",
    "    stride = data_handler.sequence_stride\n",
    "    \n",
    "    df_engine = data_handler.df_train\n",
    "    df_engine = df_engine.loc[df_engine['Unit Number'] == engineUnit, :]\n",
    "    df_engine['Unit Number'] = 1\n",
    "    \n",
    "    X_test2, _, _, _, _ = CMAPSSPlot_AuxFunctions.create_windowed_data(df_engine, selected_features, 'train', \n",
    "                         time_window=time_window, constRUL=constRUL, stride=stride, \n",
    "                         crossValidationRatio=0)\n",
    "    \n",
    "    maxCycle = X_test2.shape[0]\n",
    "    faultCycle = data_handler.y_test[engineUnit-1]\n",
    "    cycles = np.arange(maxCycle)\n",
    "    rulArray = np.arange(faultCycle, maxCycle+faultCycle)\n",
    "    rulArray[rulArray > constRUL] = constRUL\n",
    "    rulArray = np.flipud(rulArray)\n",
    "    \n",
    "    plot_linear_degradation_model(cycles, rulArray, engineUnit)\n",
    "    #plt.plot(cycles, nnPred, 'go-', label='NN Pred')\n",
    "    #plt.legend()"
   ]
  },
  {
   "cell_type": "code",
   "execution_count": null,
   "metadata": {},
   "outputs": [],
   "source": [
    "plot_piecewise_by_engine(dHandler_cmaps2, 21)"
   ]
  },
  {
   "cell_type": "code",
   "execution_count": null,
   "metadata": {},
   "outputs": [],
   "source": []
  }
 ],
 "metadata": {
  "kernelspec": {
   "display_name": "Python 3",
   "language": "python",
   "name": "python3"
  },
  "language_info": {
   "codemirror_mode": {
    "name": "ipython",
    "version": 3
   },
   "file_extension": ".py",
   "mimetype": "text/x-python",
   "name": "python",
   "nbconvert_exporter": "python",
   "pygments_lexer": "ipython3",
   "version": "3.6.8"
  }
 },
 "nbformat": 4,
 "nbformat_minor": 2
}
